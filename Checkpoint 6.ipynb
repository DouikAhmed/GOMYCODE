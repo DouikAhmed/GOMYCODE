{
 "cells": [
  {
   "cell_type": "code",
   "execution_count": 2,
   "id": "4711f5b8",
   "metadata": {},
   "outputs": [
    {
     "name": "stdout",
     "output_type": "stream",
     "text": [
      "[[1, 3, 4], [3, 5, 7], [4, 8, 9]]\n"
     ]
    }
   ],
   "source": [
    "#question 1\n",
    "import numpy as np\n",
    "array1 = np.array([[1,3,4],[3,5,7],[4,8,9]])\n",
    "list1 = array1.tolist()\n",
    "print(list1)"
   ]
  },
  {
   "cell_type": "code",
   "execution_count": 16,
   "id": "9a86441f",
   "metadata": {},
   "outputs": [
    {
     "name": "stdout",
     "output_type": "stream",
     "text": [
      " choose your array\n",
      "1, 2, 3, 4, 5, 6, 7, 8, 9\n",
      "now, choose its number of line then its number of column\n",
      "3\n",
      "3\n",
      "15\n"
     ]
    }
   ],
   "source": [
    "#question 2\n",
    "import numpy as np\n",
    "print(\" choose your array\")\n",
    "a = input()\n",
    "a = a.split(\", \")\n",
    "a = list(map(int, a))\n",
    "a = np.array(a)\n",
    "print(\"now, choose it's number of line then it's number of column\")\n",
    "a = a.reshape(int(input()),int(input()))\n",
    "b = a.trace()\n",
    "print(b)"
   ]
  },
  {
   "cell_type": "code",
   "execution_count": 24,
   "id": "b620ad3a",
   "metadata": {},
   "outputs": [
    {
     "name": "stdout",
     "output_type": "stream",
     "text": [
      "tableau de base: \n",
      "[[ 0 10 20]\n",
      " [20 30 40]]\n",
      "choisis une valeur inférieur a 40\n",
      "10\n",
      "valeur supérieur a 10 = [20 20 30 40]\n"
     ]
    }
   ],
   "source": [
    "#question 3\n",
    "import numpy as np\n",
    "x = np.array([[0, 10, 20], [20, 30, 40]])\n",
    "print(\"tableau de base: \")\n",
    "print(x)\n",
    "print(\"choisis une valeur inférieur a 40\")\n",
    "a = int(input())\n",
    "print(\"valeur supérieur a 10 =\", x[x>a])"
   ]
  },
  {
   "cell_type": "code",
   "execution_count": 18,
   "id": "e935b712",
   "metadata": {},
   "outputs": [
    {
     "name": "stdout",
     "output_type": "stream",
     "text": [
      " choose your arrays\n",
      "1, 2, 3, 4\n",
      "4, 3, 2, 1\n",
      "now, choose it's number of line then it's number of column\n",
      "2\n",
      "2\n",
      "[[5 5]\n",
      " [5 5]]\n"
     ]
    }
   ],
   "source": [
    "#question 4\n",
    "import numpy as np\n",
    "print(\" choose your arrays\")\n",
    "a = input()\n",
    "b = input()\n",
    "a = a.split(\", \")\n",
    "b = b.split(\", \")\n",
    "a = list(map(int, a))\n",
    "b = list(map(int, b))\n",
    "a = np.array(a)\n",
    "b = np.array(b)\n",
    "print(\"now, choose it's number of line then it's number of column\")\n",
    "x = int(input())\n",
    "y = int(input())\n",
    "a = a.reshape(x,y)\n",
    "b = b.reshape(x,y)\n",
    "C = a+b\n",
    "print(C)"
   ]
  },
  {
   "cell_type": "code",
   "execution_count": 22,
   "id": "949eebb0",
   "metadata": {},
   "outputs": [
    {
     "name": "stdout",
     "output_type": "stream",
     "text": [
      "Matrice originelle:\n",
      "\n",
      "1, 2, 3, 4, 5, 6, 7, 8, 9, 10, 11, 12\n",
      "now, choose it's number of line then it's number of column\n",
      "3\n",
      "4\n",
      "[[ 1  2  3  4]\n",
      " [ 5  6  7  8]\n",
      " [ 9 10 11 12]]\n",
      "\n",
      "Subtract the mean of each row of the said matrix:\n",
      "\n",
      "[[-1.5 -0.5  0.5  1.5]\n",
      " [-1.5 -0.5  0.5  1.5]\n",
      " [-1.5 -0.5  0.5  1.5]]\n"
     ]
    }
   ],
   "source": [
    "#question 5\n",
    "import numpy as np\n",
    "print(\"Matrice originelle:\\n\")\n",
    "X = input()\n",
    "X = X.split(\", \")\n",
    "X = list(map(int, X))\n",
    "X = np.array(X)\n",
    "print(\"now, choose it's number of line then it's number of column\")\n",
    "X = X.reshape(int(input()),int(input()))\n",
    "print(X)\n",
    "print(\"\\nSubtract the mean of each row of the said matrix:\\n\")\n",
    "Y = X - X.mean(axis=1, keepdims=True)\n",
    "print(Y)"
   ]
  }
 ],
 "metadata": {
  "kernelspec": {
   "display_name": "Python 3",
   "language": "python",
   "name": "python3"
  },
  "language_info": {
   "codemirror_mode": {
    "name": "ipython",
    "version": 3
   },
   "file_extension": ".py",
   "mimetype": "text/x-python",
   "name": "python",
   "nbconvert_exporter": "python",
   "pygments_lexer": "ipython3",
   "version": "3.8.8"
  }
 },
 "nbformat": 4,
 "nbformat_minor": 5
}
