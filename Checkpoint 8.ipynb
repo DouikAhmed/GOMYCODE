{
 "cells": [
  {
   "cell_type": "code",
   "execution_count": 60,
   "id": "5f8d29eb",
   "metadata": {},
   "outputs": [
    {
     "data": {
      "text/plain": [
       "'my first file. This file do contains three lines'"
      ]
     },
     "execution_count": 60,
     "metadata": {},
     "output_type": "execute_result"
    }
   ],
   "source": [
    "with open(\"test.txt\",'w',encoding = 'utf-8') as f:\n",
    "    f.write(\"my first file. \")\n",
    "    f.write(\"This file do \")\n",
    "    f.write(\"contains three lines\")\n",
    "f = open(\"test.txt\",'r',encoding = 'utf-8')\n",
    "f.read()"
   ]
  },
  {
   "cell_type": "code",
   "execution_count": 39,
   "id": "3ed37b86",
   "metadata": {
    "scrolled": true
   },
   "outputs": [
    {
     "name": "stdout",
     "output_type": "stream",
     "text": [
      "5\n"
     ]
    },
    {
     "data": {
      "text/plain": [
       "'my fi'"
      ]
     },
     "execution_count": 39,
     "metadata": {},
     "output_type": "execute_result"
    }
   ],
   "source": [
    "f = open(\"test.txt\",'r',encoding = 'utf-8')\n",
    "n = int(input())\n",
    "f.read(n)"
   ]
  },
  {
   "cell_type": "code",
   "execution_count": 51,
   "id": "5dd0d388",
   "metadata": {
    "scrolled": true
   },
   "outputs": [
    {
     "name": "stdout",
     "output_type": "stream",
     "text": [
      "4\n",
      "my first file. This file do not contains three lines\n"
     ]
    }
   ],
   "source": [
    "n1 = int(input())\n",
    "def read_lastnlines(fname,n):\n",
    "    with open('test.txt') as f:\n",
    "        for line in (f.readlines() [-n:]):\n",
    "            print(line)\n",
    "#code doesn't give out anything because the text file is only one line\n",
    "read_lastnlines('test.txt',n1)"
   ]
  },
  {
   "cell_type": "code",
   "execution_count": 59,
   "id": "5733014f",
   "metadata": {},
   "outputs": [
    {
     "name": "stdout",
     "output_type": "stream",
     "text": [
      "choose your file path or file\n",
      "test.txt\n",
      "9\n"
     ]
    }
   ],
   "source": [
    "print(\"choose your file path or file\")\n",
    "a = input()\n",
    "def count_words(filepath):\n",
    "    with open(filepath) as d:\n",
    "        data = d.read()\n",
    "        data.replace(\",\", \" \")\n",
    "        return len(data.split(\" \"))\n",
    "print(count_words(a))"
   ]
  },
  {
   "cell_type": "code",
   "execution_count": null,
   "id": "0b982dd3",
   "metadata": {},
   "outputs": [],
   "source": [
    "n1 = int(input())\n",
    "def read_lastnlines(fname,n):\n",
    "    with open('test.txt') as f:\n",
    "        for line in (f.readlines() [-n:]):\n",
    "            print(line)\n",
    "#code doesn't give out anything because the text file is only one line\n",
    "read_lastnlines('test.txt',n1)"
   ]
  }
 ],
 "metadata": {
  "kernelspec": {
   "display_name": "Python 3",
   "language": "python",
   "name": "python3"
  },
  "language_info": {
   "codemirror_mode": {
    "name": "ipython",
    "version": 3
   },
   "file_extension": ".py",
   "mimetype": "text/x-python",
   "name": "python",
   "nbconvert_exporter": "python",
   "pygments_lexer": "ipython3",
   "version": "3.8.8"
  }
 },
 "nbformat": 4,
 "nbformat_minor": 5
}
