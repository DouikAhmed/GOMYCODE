{
 "cells": [
  {
   "cell_type": "code",
   "execution_count": 22,
   "id": "3083021f",
   "metadata": {
    "scrolled": true
   },
   "outputs": [
    {
     "name": "stdout",
     "output_type": "stream",
     "text": [
      "(1, 2, 3)\n"
     ]
    }
   ],
   "source": [
    "#question 1\n",
    "class Point3D(object):\n",
    "    def __init__(self , x ,y, z):\n",
    "        self.x = x\n",
    "        self.y = y\n",
    "        self.z = z\n",
    "    def __repr__(self):\n",
    "        return \"(%d, %d, %d)\" % (self.x, self.y, self.z)\n",
    "my_point = Point3D(1 , 2 , 3) \n",
    "print (my_point)"
   ]
  },
  {
   "cell_type": "code",
   "execution_count": 15,
   "id": "8b96a2ad",
   "metadata": {},
   "outputs": [
    {
     "name": "stdout",
     "output_type": "stream",
     "text": [
      "12\n",
      "14\n"
     ]
    }
   ],
   "source": [
    "#question 2\n",
    "class Rectangle():\n",
    "    def __init__(self, l, w):\n",
    "        self.length = l\n",
    "        self.width  = w\n",
    "\n",
    "    def area(self):\n",
    "        return self.length*self.width\n",
    "    def perimeter(self):\n",
    "        return 2*(self.length+self.width)\n",
    "\n",
    "my_rectangle = Rectangle(3, 4)\n",
    "print(my_rectangle.area())\n",
    "print(my_rectangle.perimeter())"
   ]
  },
  {
   "cell_type": "code",
   "execution_count": 19,
   "id": "fb0ecb74",
   "metadata": {},
   "outputs": [
    {
     "name": "stdout",
     "output_type": "stream",
     "text": [
      "200.96\n",
      "50.24\n"
     ]
    }
   ],
   "source": [
    "#question 3\n",
    "class Circle():\n",
    "    def __init__(self, r):\n",
    "        self.radius = r\n",
    "\n",
    "    def area(self):\n",
    "        return self.radius**2*3.14\n",
    "    \n",
    "    def perimeter(self):\n",
    "        return 2*self.radius*3.14\n",
    "\n",
    "my_circle = Circle(8)\n",
    "print(my_circle.area())\n",
    "print(my_circle.perimeter())"
   ]
  },
  {
   "cell_type": "code",
   "execution_count": 20,
   "id": "76cd7747",
   "metadata": {},
   "outputs": [
    {
     "name": "stdout",
     "output_type": "stream",
     "text": [
      "Deposit & Withdrawal Machine\n",
      "Enter amount : 10000000000000000000\n",
      "\n",
      " Amount that has beenDeposited: 1e+19\n",
      "Enter amount: 29348382\n",
      "\n",
      " You Withdrew: 29348382.0\n",
      "\n",
      " Net Available Balance= 9.999999999970652e+18\n"
     ]
    }
   ],
   "source": [
    "#question 4\n",
    "class Bank_Account:\n",
    "    def __init__(self):\n",
    "        self.balance=0\n",
    "        print(\"Deposit & Withdrawal Machine\")\n",
    "    def deposit(self):\n",
    "        amount=float(input(\"Enter amount : \"))\n",
    "        self.balance += amount\n",
    "        print(\"\\n Amount that has been Deposited:\",amount)\n",
    "    def withdraw(self):\n",
    "        amount = float(input(\"Enter amount: \"))\n",
    "        if self.balance>=amount:\n",
    "            self.balance-=amount\n",
    "            print(\"\\n You Withdrew:\", amount)\n",
    "        else:\n",
    "            print(\"\\n Insufficient balance  \")\n",
    "    def display(self):\n",
    "        print(\"\\n Net Available Balance=\",self.balance)\n",
    "s = Bank_Account()\n",
    "s.deposit()\n",
    "s.withdraw()\n",
    "s.display()"
   ]
  },
  {
   "cell_type": "code",
   "execution_count": null,
   "id": "71fe62e9",
   "metadata": {},
   "outputs": [],
   "source": []
  }
 ],
 "metadata": {
  "kernelspec": {
   "display_name": "Python 3",
   "language": "python",
   "name": "python3"
  },
  "language_info": {
   "codemirror_mode": {
    "name": "ipython",
    "version": 3
   },
   "file_extension": ".py",
   "mimetype": "text/x-python",
   "name": "python",
   "nbconvert_exporter": "python",
   "pygments_lexer": "ipython3",
   "version": "3.8.8"
  }
 },
 "nbformat": 4,
 "nbformat_minor": 5
}
