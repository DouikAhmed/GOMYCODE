{
 "cells": [
  {
   "cell_type": "code",
   "execution_count": 19,
   "id": "73ebee24",
   "metadata": {
    "scrolled": false
   },
   "outputs": [
    {
     "name": "stdout",
     "output_type": "stream",
     "text": [
      " what's your name ?\n",
      " My first name is \n",
      "Ahmed\n",
      "And my last name is \n",
      "Douik\n",
      "so your name is Douik Ahmed\n"
     ]
    }
   ],
   "source": [
    "#question 1\n",
    "print(\" what's your name ?\")\n",
    "print(\" My first name is \")\n",
    "str1 = input()\n",
    "print(\"And my last name is \")\n",
    "str2 = input()\n",
    "print( \"so your name is \" + str2 + \" \" + str1 )"
   ]
  },
  {
   "cell_type": "code",
   "execution_count": 2,
   "id": "6ad694ce",
   "metadata": {
    "scrolled": false
   },
   "outputs": [
    {
     "name": "stdout",
     "output_type": "stream",
     "text": [
      "choose n= 2\n",
      "246\n"
     ]
    }
   ],
   "source": [
    "#question 2\n",
    "n = int(input(\"choose n= \"))\n",
    "str1 = str(n) + str(n)\n",
    "str2 = str(n) + str(n) + str(n)\n",
    "print(n+int(str1)+int(str2))"
   ]
  },
  {
   "cell_type": "code",
   "execution_count": 7,
   "id": "d3b5a1e4",
   "metadata": {},
   "outputs": [
    {
     "name": "stdout",
     "output_type": "stream",
     "text": [
      "choose a number,3\n",
      "3 is Odd number\n"
     ]
    }
   ],
   "source": [
    "#question 3\n",
    "x = int(input(\"choose a number,\"))\n",
    "if (x % 2) == 0:\n",
    "    print(\"{0} is Even number\". format(x))\n",
    "else:\n",
    "    print(\"{0} is Odd number\". format(x))"
   ]
  },
  {
   "cell_type": "code",
   "execution_count": 16,
   "id": "9d7d071a",
   "metadata": {},
   "outputs": [
    {
     "name": "stdout",
     "output_type": "stream",
     "text": [
      "2030,2065,2100,2135,2170,2205,2240,2275,2310,2345,2380,2415,2450,2485,2520,2555,2590,2625,2660,2695,2730,2765,2800,2835,2870,2905,2940,2975,3010,3045,3080,3115,3150,3185\n"
     ]
    }
   ],
   "source": [
    "#question 4\n",
    "nl=[]\n",
    "for x in range(2000, 3201):\n",
    "    if (x%7==0) and (x%5==0):\n",
    "        nl.append(str(x))\n",
    "print (','.join(nl))"
   ]
  },
  {
   "cell_type": "code",
   "execution_count": 15,
   "id": "a8ce959b",
   "metadata": {
    "scrolled": true
   },
   "outputs": [
    {
     "name": "stdout",
     "output_type": "stream",
     "text": [
      "choose a number, 8\n",
      "The factorial of 8 is 40320\n"
     ]
    }
   ],
   "source": [
    "#question 5\n",
    "x = int(input(\"choose a number, \"))\n",
    "factorial = 1\n",
    "if x < 0:\n",
    "   print(\"Sorry, factorial does not exist for negative numbers\")\n",
    "elif x == 0:\n",
    "   print(\"The factorial of 0 is 1\")\n",
    "else:\n",
    "   for i in range(1,x + 1):\n",
    "       factorial = factorial*i\n",
    "   print(\"The factorial of\",x,\"is\",factorial)"
   ]
  },
  {
   "cell_type": "code",
   "execution_count": 20,
   "id": "feef24f4",
   "metadata": {},
   "outputs": [
    {
     "name": "stdout",
     "output_type": "stream",
     "text": [
      "avcdef\n",
      "ace\n"
     ]
    }
   ],
   "source": [
    "#question 6\n",
    "a = input()\n",
    "def odd_values_string(str):\n",
    "  result = \"\" \n",
    "  for i in range(len(str)):\n",
    "    if i % 2 == 0:\n",
    "      result = result + str[i]\n",
    "  return result\n",
    "\n",
    "print(odd_values_string(a))\n"
   ]
  },
  {
   "cell_type": "code",
   "execution_count": 28,
   "id": "efc72f04",
   "metadata": {},
   "outputs": [
    {
     "name": "stdout",
     "output_type": "stream",
     "text": [
      "state the price of your choosen product:1000\n",
      "the choose product price being above 500, you got a 50% discount, that makes a total of: 500.0\n"
     ]
    }
   ],
   "source": [
    "#question 7\n",
    "x = int(input(\"state the price of your choosen product:\"))\n",
    "if x >= 500:\n",
    "    a = x - (x/2)\n",
    "    print(\"the choose product price being above 500, you got a 50% discount, that makes a total of:\", a )\n",
    "elif x >= 200 and x < 500:\n",
    "    b = x * (1-30/100)\n",
    "    print(\"the choose product price being between 200 and 500, you got a 30% discount, that makes a total of:\", b )\n",
    "else:\n",
    "    c = x * (1-10/100)\n",
    "    print(\"the choose product price being less than 200, you got a 10% discount, that makes a total of:\", c )"
   ]
  },
  {
   "cell_type": "code",
   "execution_count": null,
   "id": "7fad98ea",
   "metadata": {},
   "outputs": [],
   "source": []
  }
 ],
 "metadata": {
  "kernelspec": {
   "display_name": "Python 3",
   "language": "python",
   "name": "python3"
  },
  "language_info": {
   "codemirror_mode": {
    "name": "ipython",
    "version": 3
   },
   "file_extension": ".py",
   "mimetype": "text/x-python",
   "name": "python",
   "nbconvert_exporter": "python",
   "pygments_lexer": "ipython3",
   "version": "3.8.8"
  }
 },
 "nbformat": 4,
 "nbformat_minor": 5
}
